{
  "nbformat": 4,
  "nbformat_minor": 0,
  "metadata": {
    "colab": {
      "name": "final.ipynb",
      "provenance": [],
      "collapsed_sections": [],
      "toc_visible": true
    },
    "kernelspec": {
      "name": "python3",
      "display_name": "Python 3"
    }
  },
  "cells": [
    {
      "cell_type": "markdown",
      "metadata": {
        "id": "kWJ8L0lLjIjf",
        "colab_type": "text"
      },
      "source": [
        "#Nifty 50 Index Prediction Pipeline"
      ]
    },
    {
      "cell_type": "markdown",
      "metadata": {
        "id": "jTMXZ-2hfUrV",
        "colab_type": "text"
      },
      "source": [
        "###Importing Libraries"
      ]
    },
    {
      "cell_type": "code",
      "metadata": {
        "id": "7pU2sx_4kR40",
        "colab_type": "code",
        "colab": {}
      },
      "source": [
        "import pandas as pd\n",
        "import numpy as np\n",
        "import matplotlib.pyplot as plt\n",
        "from tqdm import tqdm\n",
        "import tensorflow as tf\n",
        "from keras.models import Sequential\n",
        "from keras.layers import Dense, LSTM\n",
        "import pickle\n",
        "\n",
        "import warnings\n",
        "warnings.filterwarnings(\"ignore\")\n",
        "\n",
        "import random\n",
        "from sklearn.metrics import mean_squared_error\n",
        "from math import sqrt"
      ],
      "execution_count": 74,
      "outputs": []
    },
    {
      "cell_type": "markdown",
      "metadata": {
        "id": "g_Yx4C8TfXHe",
        "colab_type": "text"
      },
      "source": [
        "###Defining Functions"
      ]
    },
    {
      "cell_type": "code",
      "metadata": {
        "id": "i74utVFVrQFp",
        "colab_type": "code",
        "colab": {}
      },
      "source": [
        "def create_model():\n",
        "    model = Sequential()\n",
        "    model.add(LSTM(units=128, activation='tanh', kernel_initializer=tf.keras.initializers.glorot_uniform(seed=26), input_shape = (61,1)))\n",
        "    model.add(Dense(1, name=\"output_layer\"))\n",
        "    return model"
      ],
      "execution_count": 75,
      "outputs": []
    },
    {
      "cell_type": "code",
      "metadata": {
        "id": "V6TYUgADjHB6",
        "colab_type": "code",
        "colab": {}
      },
      "source": [
        "#Function to Predict Next Day Index Price\n",
        "\n",
        "def prediction_single_day(date):  #date: Enter date for which you want next day's price prediction.\n",
        "    \n",
        "    #Loading Data\n",
        "    data = pd.read_csv('data_processed_final.csv')\n",
        "    with open('min_max.pickle', 'rb') as i:\n",
        "        minmax = pickle.load(i)\n",
        "\n",
        "    #Predicting\n",
        "    data['price'] = minmax.transform(data['price'].values.reshape(-1, 1))\n",
        "\n",
        "    model = create_model()\n",
        "    model.load_weights('LSTM_with_Sentiments.h5')\n",
        "\n",
        "    try:\n",
        "        present_day = data[data['date'] == date].index[0]\n",
        "\n",
        "        last_60_days_price = data['price'][present_day-59:present_day+1].values\n",
        "        last_day_news_score = data[data['date'] == date]['score']\n",
        "\n",
        "        prediction_array = np.append(last_60_days_price, last_day_news_score).reshape(-1, 1)\n",
        "        prediction_array = np.expand_dims(prediction_array, axis=0)\n",
        "        \n",
        "        print(\"Predicting Next Working Day's Nifty 50 Index Price...\\n\")\n",
        "\n",
        "        predicted_stock_price = model.predict(prediction_array)\n",
        "        predicted_stock_price = minmax.inverse_transform(predicted_stock_price)\n",
        "        predicted_stock_price = predicted_stock_price[0][0]\n",
        "\n",
        "        actual_price = data['price'][present_day]\n",
        "        actual_price = minmax.inverse_transform([[actual_price]])\n",
        "        actual_price = actual_price[0][0]\n",
        "\n",
        "        print(f'Predicted Index Price for the next working day after {date}: {predicted_stock_price}')\n",
        "        print(f'Actual Index Price for the next working day after {date}: {actual_price}\\n')\n",
        "\n",
        "    except (IndexError, UnboundLocalError):\n",
        "        print('Entered Date should lie between period 2015-01-01 and 2019-12-31 and should not lie on a stock market holiday. Please enter a correct date.')\n",
        "\n",
        "    except:\n",
        "        print('Invalid Date Format. Please put date in yyyy-mm-dd format.')"
      ],
      "execution_count": 78,
      "outputs": []
    },
    {
      "cell_type": "code",
      "metadata": {
        "id": "ixMXQjwmnzVc",
        "colab_type": "code",
        "colab": {}
      },
      "source": [
        "#Function to Predict Price for Random 60 Consecutive Days\n",
        "\n",
        "def prediction_multiple_days():\n",
        "\n",
        "    #Loading Data\n",
        "    data = pd.read_csv('data_processed_final.csv')\n",
        "    with open('min_max.pickle', 'rb') as i:\n",
        "        minmax = pickle.load(i)\n",
        "\n",
        "    #Predicting\n",
        "    data['price'] = minmax.transform(data['price'].values.reshape(-1, 1))\n",
        "    \n",
        "    prediction_prices = []\n",
        "    actual_prices = []\n",
        "\n",
        "    random.seed(20)\n",
        "    n = random.randint(0, len(data)-60)\n",
        "    random_date = data['date'][n]\n",
        "    print(f'Predicting for next 60 days from date: {random_date}')\n",
        "\n",
        "    model = create_model()\n",
        "    model.load_weights('LSTM_with_Sentiments.h5')\n",
        "\n",
        "    for i in range(n, n+60):\n",
        "        date = data['date'][i]\n",
        "\n",
        "        present_day = data[data['date'] == date].index[0]\n",
        "\n",
        "        last_60_days_price = data['price'][present_day-59:present_day+1].values\n",
        "        last_day_news_score = data[data['date'] == date]['score']\n",
        "\n",
        "        prediction_array = np.append(last_60_days_price, last_day_news_score).reshape(-1, 1)\n",
        "        prediction_array = np.expand_dims(prediction_array, axis=0)\n",
        "\n",
        "        predicted_stock_price = model.predict(prediction_array)\n",
        "        predicted_stock_price = minmax.inverse_transform(predicted_stock_price)\n",
        "        predicted_stock_price = predicted_stock_price[0][0]\n",
        "\n",
        "        actual_price = data['price'][present_day]\n",
        "        actual_price = minmax.inverse_transform([[actual_price]])\n",
        "        actual_price = actual_price[0][0]\n",
        "\n",
        "        prediction_prices.append(predicted_stock_price)\n",
        "        actual_prices.append(actual_price)\n",
        "\n",
        "    plt.figure(figsize=(12,7))\n",
        "    plt.plot(prediction_prices, color = 'red', label = 'Predicted Prices')\n",
        "    plt.plot(actual_prices, color = 'green', label = 'Actual Prices')\n",
        "    plt.title('Nifty Index Prediction for 60 Consecutive Days')\n",
        "    plt.xlabel('Days')\n",
        "    plt.ylabel('Prices')\n",
        "    plt.legend()\n",
        "    plt.show()\n",
        "\n",
        "    RMSE = sqrt(mean_squared_error(prediction_prices, actual_prices))\n",
        "    print(f\"RMSE: {RMSE}\")"
      ],
      "execution_count": 79,
      "outputs": []
    },
    {
      "cell_type": "markdown",
      "metadata": {
        "id": "t_A9RdZ_f6k9",
        "colab_type": "text"
      },
      "source": [
        "###Predicting Next Day Price"
      ]
    },
    {
      "cell_type": "code",
      "metadata": {
        "id": "WcvC-WPSlulJ",
        "colab_type": "code",
        "colab": {
          "base_uri": "https://localhost:8080/",
          "height": 66
        },
        "outputId": "e0d3b48d-9dc3-4da2-8689-ee1efaa06ceb"
      },
      "source": [
        "%%time\n",
        "prediction_single_day('2021-01-03')  #Printing output when you give a faulty date"
      ],
      "execution_count": 80,
      "outputs": [
        {
          "output_type": "stream",
          "text": [
            "Entered Date should lie between period 2015-01-01 and 2019-12-31 and should not lie on a stock market holiday. Please enter a correct date.\n",
            "CPU times: user 332 ms, sys: 8.91 ms, total: 341 ms\n",
            "Wall time: 343 ms\n"
          ],
          "name": "stdout"
        }
      ]
    },
    {
      "cell_type": "code",
      "metadata": {
        "id": "mDreFhBOXLce",
        "colab_type": "code",
        "colab": {
          "base_uri": "https://localhost:8080/",
          "height": 131
        },
        "outputId": "171fb003-31b2-4f24-cc3a-6b6f14199969"
      },
      "source": [
        "%%time\n",
        "prediction_single_day('2018-01-23')  #Printing output when you give a correct date"
      ],
      "execution_count": 81,
      "outputs": [
        {
          "output_type": "stream",
          "text": [
            "Predicting Next Working Day's Nifty 50 Index Price...\n",
            "\n",
            "Predicted Index Price for the next working day after 2018-01-23: 11079.4794921875\n",
            "Actual Index Price for the next working day after 2018-01-23: 11083.7\n",
            "\n",
            "CPU times: user 639 ms, sys: 14.9 ms, total: 654 ms\n",
            "Wall time: 649 ms\n"
          ],
          "name": "stdout"
        }
      ]
    },
    {
      "cell_type": "markdown",
      "metadata": {
        "id": "ODPjGlJRf_Q9",
        "colab_type": "text"
      },
      "source": [
        "###Predicting 60 Consecutive Days Price"
      ]
    },
    {
      "cell_type": "code",
      "metadata": {
        "id": "naaTnBYgnHEM",
        "colab_type": "code",
        "colab": {
          "base_uri": "https://localhost:8080/",
          "height": 212
        },
        "outputId": "2545d512-081b-4ee2-f94e-3b1c4b118982"
      },
      "source": [
        "data = pd.read_csv('data_processed_final.csv')\n",
        "\n",
        "data.info()"
      ],
      "execution_count": 82,
      "outputs": [
        {
          "output_type": "stream",
          "text": [
            "<class 'pandas.core.frame.DataFrame'>\n",
            "RangeIndex: 1232 entries, 0 to 1231\n",
            "Data columns (total 5 columns):\n",
            " #   Column               Non-Null Count  Dtype  \n",
            "---  ------               --------------  -----  \n",
            " 0   date                 1232 non-null   object \n",
            " 1   tweet_news_combined  1232 non-null   object \n",
            " 2   score                1232 non-null   float64\n",
            " 3   sentiment            1232 non-null   float64\n",
            " 4   price                1232 non-null   float64\n",
            "dtypes: float64(3), object(2)\n",
            "memory usage: 48.2+ KB\n"
          ],
          "name": "stdout"
        }
      ]
    },
    {
      "cell_type": "code",
      "metadata": {
        "id": "isRI0VtR2XSE",
        "colab_type": "code",
        "colab": {
          "base_uri": "https://localhost:8080/",
          "height": 522
        },
        "outputId": "e31cd630-457d-4fd3-b79b-39703993a23c"
      },
      "source": [
        "%%time\n",
        "prediction_multiple_days()"
      ],
      "execution_count": 97,
      "outputs": [
        {
          "output_type": "stream",
          "text": [
            "Predicting for next 60 days from date: 2016-04-01\n"
          ],
          "name": "stdout"
        },
        {
          "output_type": "display_data",
          "data": {
            "image/png": "[encoded data removed]",
            "text/plain": [
              "<Figure size 864x504 with 1 Axes>"
            ]
          },
          "metadata": {
            "tags": [],
            "needs_background": "light"
          }
        },
        {
          "output_type": "stream",
          "text": [
            "RMSE: 44.35698436462765\n",
            "CPU times: user 3.75 s, sys: 68.2 ms, total: 3.82 s\n",
            "Wall time: 3.64 s\n"
          ],
          "name": "stdout"
        }
      ]
    },
    {
      "cell_type": "markdown",
      "metadata": {
        "id": "sYrt6rVrD_mC",
        "colab_type": "text"
      },
      "source": [
        "#Post-Training Quantization"
      ]
    },
    {
      "cell_type": "markdown",
      "metadata": {
        "id": "bU-bbtEMEJ5p",
        "colab_type": "text"
      },
      "source": [
        "**Quantization** refers to techniques for performing computations and storing tensors at lower bitwidths than floating point precision. A quantized model executes some or all of the operations on tensors with integers rather than floating point values. This allows model to run faster but this comes at a cost of accuracy.\n",
        "\n",
        " By default, the model weights are saved in Float32 format but it can be reduced to Float16 or Int8 to get the calculations faster but due to approximation we can expect a little drop in the accuracy.\n",
        "\n",
        " As we can see above that it currently takes around 800ms for our model to predict the next price. Here, with the help of quantization techniques we will try to reduce this runtime of our model."
      ]
    },
    {
      "cell_type": "markdown",
      "metadata": {
        "id": "Uc-ecKjeaFvZ",
        "colab_type": "text"
      },
      "source": [
        "###Defining Functions for Quantized Model"
      ]
    },
    {
      "cell_type": "code",
      "metadata": {
        "id": "zypkDZjdaYHU",
        "colab_type": "code",
        "colab": {}
      },
      "source": [
        "#Function to Predict Next Day Index Price\n",
        "\n",
        "def prediction_single_day_quantized(date):  #date: Enter date for which you want next day's price prediction.\n",
        "    \n",
        "    #Loading Data\n",
        "    data = pd.read_csv('data_processed_final.csv')\n",
        "    with open('min_max.pickle', 'rb') as i:\n",
        "        minmax = pickle.load(i)\n",
        "\n",
        "    #Predicting\n",
        "    data['price'] = minmax.transform(data['price'].values.reshape(-1, 1))\n",
        "\n",
        "    # Initialize the interpreter\n",
        "    interpreter = tf.lite.Interpreter(model_path = \"converted_quant_model.tflite\")\n",
        "    interpreter.allocate_tensors()\n",
        "\n",
        "    input_details = interpreter.get_input_details()\n",
        "    output_details = interpreter.get_output_details()\n",
        "    input_shape = input_details[0]['shape']\n",
        "\n",
        "    try:\n",
        "        present_day = data[data['date'] == date].index[0]\n",
        "\n",
        "        last_60_days_price = data['price'][present_day-59:present_day+1].values\n",
        "        last_day_news_score = data[data['date'] == date]['score']\n",
        "\n",
        "        prediction_array = np.append(last_60_days_price, last_day_news_score).reshape(-1, 1)\n",
        "        prediction_array = np.expand_dims(prediction_array, axis=0)\n",
        "        \n",
        "        print(\"Predicting Next Working Day's Nifty 50 Index Price...\\n\")\n",
        "\n",
        "        # Test model on input data.\n",
        "        input_data = np.array(prediction_array, dtype = np.float32)\n",
        "        interpreter.set_tensor(input_details[0]['index'], input_data)\n",
        "\n",
        "        interpreter.invoke()\n",
        "\n",
        "        predicted_stock_price = interpreter.get_tensor(output_details[0]['index'])\n",
        "        predicted_stock_price = minmax.inverse_transform(predicted_stock_price)\n",
        "        predicted_stock_price = predicted_stock_price[0][0]\n",
        "\n",
        "        actual_price = data['price'][present_day]\n",
        "        actual_price = minmax.inverse_transform([[actual_price]])\n",
        "        actual_price = actual_price[0][0]\n",
        "\n",
        "        print(f'Predicted Index Price for the next working day after {date}: {predicted_stock_price}')\n",
        "        print(f'Actual Index Price for the next working day after {date}: {actual_price}\\n')\n",
        "\n",
        "    except (IndexError, UnboundLocalError):\n",
        "        print('Entered Date should lie between period 2015-01-01 and 2019-12-31 and should not lie on a stock market holiday. Please enter a correct date.')\n",
        "\n",
        "    except:\n",
        "        print('Invalid Date Format. Please put date in yyyy-mm-dd format.')"
      ],
      "execution_count": 90,
      "outputs": []
    },
    {
      "cell_type": "code",
      "metadata": {
        "id": "cB8Rxehxba_1",
        "colab_type": "code",
        "colab": {}
      },
      "source": [
        "#Function to Predict Price for Random 60 Consecutive Days\n",
        "\n",
        "def prediction_multiple_days_quantized():\n",
        "\n",
        "    #Loading Data\n",
        "    data = pd.read_csv('data_processed_final.csv')\n",
        "    with open('min_max.pickle', 'rb') as i:\n",
        "        minmax = pickle.load(i)\n",
        "\n",
        "    #Predicting\n",
        "    data['price'] = minmax.transform(data['price'].values.reshape(-1, 1))\n",
        "    \n",
        "    prediction_prices = []\n",
        "    actual_prices = []\n",
        "\n",
        "    random.seed(20)\n",
        "    n = random.randint(0, len(data)-60)\n",
        "    random_date = data['date'][n]\n",
        "    print(f'Predicting for next 60 days from date: {random_date}')\n",
        "\n",
        "    # Initialize the interpreter\n",
        "    interpreter = tf.lite.Interpreter(model_path = \"converted_quant_model.tflite\")\n",
        "    interpreter.allocate_tensors()\n",
        "\n",
        "    input_details = interpreter.get_input_details()\n",
        "    output_details = interpreter.get_output_details()\n",
        "    input_shape = input_details[0]['shape']\n",
        "\n",
        "    for i in range(n, n+60):\n",
        "        date = data['date'][i]\n",
        "\n",
        "        present_day = data[data['date'] == date].index[0]\n",
        "\n",
        "        last_60_days_price = data['price'][present_day-59:present_day+1].values\n",
        "        last_day_news_score = data[data['date'] == date]['score']\n",
        "\n",
        "        prediction_array = np.append(last_60_days_price, last_day_news_score).reshape(-1, 1)\n",
        "        prediction_array = np.expand_dims(prediction_array, axis=0)\n",
        "\n",
        "        # Test model on input data.\n",
        "        input_data = np.array(prediction_array, dtype = np.float32)\n",
        "        interpreter.set_tensor(input_details[0]['index'], input_data)\n",
        "\n",
        "        interpreter.invoke()\n",
        "\n",
        "        predicted_stock_price = interpreter.get_tensor(output_details[0]['index'])\n",
        "        predicted_stock_price = minmax.inverse_transform(predicted_stock_price)\n",
        "        predicted_stock_price = predicted_stock_price[0][0]\n",
        "\n",
        "        actual_price = data['price'][present_day]\n",
        "        actual_price = minmax.inverse_transform([[actual_price]])\n",
        "        actual_price = actual_price[0][0]\n",
        "\n",
        "        prediction_prices.append(predicted_stock_price)\n",
        "        actual_prices.append(actual_price)\n",
        "\n",
        "    plt.figure(figsize=(12,7))\n",
        "    plt.plot(prediction_prices, color = 'red', label = 'Predicted Prices')\n",
        "    plt.plot(actual_prices, color = 'green', label = 'Actual Prices')\n",
        "    plt.title('Nifty Index Prediction for 60 Consecutive Days')\n",
        "    plt.xlabel('Days')\n",
        "    plt.ylabel('Prices')\n",
        "    plt.legend()\n",
        "    plt.show()\n",
        "\n",
        "    RMSE = sqrt(mean_squared_error(prediction_prices, actual_prices))\n",
        "    print(f\"RMSE: {RMSE}\")"
      ],
      "execution_count": 91,
      "outputs": []
    },
    {
      "cell_type": "markdown",
      "metadata": {
        "colab_type": "text",
        "id": "YyNAddsxeSfV"
      },
      "source": [
        "###Predicting Next Day Price using Quantized Model"
      ]
    },
    {
      "cell_type": "code",
      "metadata": {
        "colab_type": "code",
        "id": "7xZ0j_GdeSfX",
        "colab": {
          "base_uri": "https://localhost:8080/",
          "height": 66
        },
        "outputId": "d665291f-7097-4ed6-92c0-05b9efe8d57e"
      },
      "source": [
        "%%time\n",
        "prediction_single_day_quantized('2021-01-03')  #Printing output when you give a faulty date"
      ],
      "execution_count": 93,
      "outputs": [
        {
          "output_type": "stream",
          "text": [
            "Entered Date should lie between period 2015-01-01 and 2019-12-31 and should not lie on a stock market holiday. Please enter a correct date.\n",
            "CPU times: user 55 ms, sys: 1.98 ms, total: 57 ms\n",
            "Wall time: 59.6 ms\n"
          ],
          "name": "stdout"
        }
      ]
    },
    {
      "cell_type": "code",
      "metadata": {
        "colab_type": "code",
        "id": "YWBndwYaeSfb",
        "colab": {
          "base_uri": "https://localhost:8080/",
          "height": 131
        },
        "outputId": "c951ff38-c9c2-4436-ae6f-dc8c13ab8861"
      },
      "source": [
        "%%time\n",
        "prediction_single_day_quantized('2018-01-23')  #Printing output when you give a correct date"
      ],
      "execution_count": 94,
      "outputs": [
        {
          "output_type": "stream",
          "text": [
            "Predicting Next Working Day's Nifty 50 Index Price...\n",
            "\n",
            "Predicted Index Price for the next working day after 2018-01-23: 11091.7509765625\n",
            "Actual Index Price for the next working day after 2018-01-23: 11083.7\n",
            "\n",
            "CPU times: user 54.8 ms, sys: 4.06 ms, total: 58.9 ms\n",
            "Wall time: 60.8 ms\n"
          ],
          "name": "stdout"
        }
      ]
    },
    {
      "cell_type": "markdown",
      "metadata": {
        "colab_type": "text",
        "id": "NVzvknvpeSfd"
      },
      "source": [
        "###Predicting 60 Consecutive Days Price using Quantized Model"
      ]
    },
    {
      "cell_type": "code",
      "metadata": {
        "colab_type": "code",
        "id": "rc-UtSHseSfk",
        "colab": {
          "base_uri": "https://localhost:8080/",
          "height": 522
        },
        "outputId": "0f906215-2bf4-49d9-e9e9-944f64155620"
      },
      "source": [
        "%%time\n",
        "prediction_multiple_days_quantized()"
      ],
      "execution_count": 96,
      "outputs": [
        {
          "output_type": "stream",
          "text": [
            "Predicting for next 60 days from date: 2016-04-01\n"
          ],
          "name": "stdout"
        },
        {
          "output_type": "display_data",
          "data": {
            "image/png": "[encoded data removed]",
            "text/plain": [
              "<Figure size 864x504 with 1 Axes>"
            ]
          },
          "metadata": {
            "tags": [],
            "needs_background": "light"
          }
        },
        {
          "output_type": "stream",
          "text": [
            "RMSE: 67.62061317753383\n",
            "CPU times: user 462 ms, sys: 8.06 ms, total: 470 ms\n",
            "Wall time: 472 ms\n"
          ],
          "name": "stdout"
        }
      ]
    },
    {
      "cell_type": "markdown",
      "metadata": {
        "id": "1LOgu76yelSp",
        "colab_type": "text"
      },
      "source": [
        "#Summary"
      ]
    },
    {
      "cell_type": "markdown",
      "metadata": {
        "id": "CRmqSIDmemg2",
        "colab_type": "text"
      },
      "source": [
        "Our Quantized Model worked very well. Here is the summary of results."
      ]
    },
    {
      "cell_type": "code",
      "metadata": {
        "id": "Pm2OnBbzel-o",
        "colab_type": "code",
        "colab": {
          "base_uri": "https://localhost:8080/",
          "height": 147
        },
        "outputId": "f2fcd47e-c48a-4655-e357-0d963b2134f2"
      },
      "source": [
        "from prettytable import PrettyTable\n",
        "    \n",
        "x = PrettyTable()\n",
        "\n",
        "x.field_names = [\"Model\", \"Time Taken to Predict\", \"RMSE\"]\n",
        "\n",
        "x.add_row([\"Regular Model: Single Day Price Prediction\", \"649 ms\", \"-\"])\n",
        "x.add_row([\"Regular Model with Quantization: Single Day Price Prediction\", \"60.8 ms\", \"-\"])\n",
        "x.add_row([\"Regular Model: 60 days Price Prediction\", \"3640 ms\", \"44.35\"])\n",
        "x.add_row([\"Regular Model with Quantization: 60 days Price Prediction\", \"472 ms\", \"67.62\"])\n",
        "\n",
        "print(x)"
      ],
      "execution_count": 100,
      "outputs": [
        {
          "output_type": "stream",
          "text": [
            "+--------------------------------------------------------------+-----------------------+-------+\n",
            "|                            Model                             | Time Taken to Predict |  RMSE |\n",
            "+--------------------------------------------------------------+-----------------------+-------+\n",
            "|          Regular Model: Single Day Price Prediction          |         649 ms        |   -   |\n",
            "| Regular Model with Quantization: Single Day Price Prediction |        60.8 ms        |   -   |\n",
            "|           Regular Model: 60 days Price Prediction            |        3640 ms        | 44.35 |\n",
            "|  Regular Model with Quantization: 60 days Price Prediction   |         472 ms        | 67.62 |\n",
            "+--------------------------------------------------------------+-----------------------+-------+\n"
          ],
          "name": "stdout"
        }
      ]
    },
    {
      "cell_type": "markdown",
      "metadata": {
        "id": "wxxbe4Y5f8Xs",
        "colab_type": "text"
      },
      "source": [
        "We can clearly observe that time for prediction has reduced significantly when we use quantized model. But accuracy got decreased as RMSE has increased in quantized model."
      ]
    },
    {
      "cell_type": "markdown",
      "metadata": {
        "id": "ltcTZbblgOiw",
        "colab_type": "text"
      },
      "source": [
        "Quantization is a great technique when we are required to make faster prediction without caring too much about accuracy. These models consume lesser space as well. These models are perfect for Mobile and Online Applications use where we need quick results."
      ]
    }
  ]
}